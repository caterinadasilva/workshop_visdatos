{
 "cells": [
  {
   "cell_type": "code",
   "execution_count": 1,
   "metadata": {},
   "outputs": [],
   "source": [
    "### Adding dirtiness to datasets"
   ]
  },
  {
   "cell_type": "code",
   "execution_count": 2,
   "metadata": {},
   "outputs": [],
   "source": [
    "import pandas as pd"
   ]
  },
  {
   "cell_type": "code",
   "execution_count": 6,
   "metadata": {},
   "outputs": [
    {
     "name": "stdout",
     "output_type": "stream",
     "text": [
      "data-cleaned.csv      dirtiness.ipynb       \u001b[36msource-EnergiaAbierta\u001b[m\u001b[m\r\n",
      "data-dirty.xlsx       \u001b[36msource-DataCampfire\u001b[m\u001b[m   \u001b[36msource-Junaeb\u001b[m\u001b[m\r\n",
      "gastos_elecciones_municipales_2016.csv\r\n"
     ]
    }
   ],
   "source": [
    "! ls && cd source-DataCampfire/ && ls"
   ]
  },
  {
   "cell_type": "code",
   "execution_count": 28,
   "metadata": {},
   "outputs": [],
   "source": [
    "# Reading\n",
    "politics = pd.read_csv('source-DataCampfire/gastos_elecciones_municipales_2016.csv', sep=\",\")\n",
    "pol_met = politics.loc[politics['region'] == 13]\n",
    "pol_met.to_csv('source-DataCampfire/financiacion_RM_2016.csv',sep=\",\")"
   ]
  },
  {
   "cell_type": "code",
   "execution_count": 27,
   "metadata": {},
   "outputs": [],
   "source": []
  }
 ],
 "metadata": {
  "kernelspec": {
   "display_name": "Python 3",
   "language": "python",
   "name": "python3"
  },
  "language_info": {
   "codemirror_mode": {
    "name": "ipython",
    "version": 3
   },
   "file_extension": ".py",
   "mimetype": "text/x-python",
   "name": "python",
   "nbconvert_exporter": "python",
   "pygments_lexer": "ipython3",
   "version": "3.6.3"
  }
 },
 "nbformat": 4,
 "nbformat_minor": 2
}
