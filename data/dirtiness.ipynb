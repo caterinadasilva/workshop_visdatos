{
 "cells": [
  {
   "cell_type": "code",
   "execution_count": 1,
   "metadata": {},
   "outputs": [],
   "source": [
    "### Adding dirtiness to datasets"
   ]
  },
  {
   "cell_type": "code",
   "execution_count": 2,
   "metadata": {},
   "outputs": [],
   "source": [
    "import pandas as pd"
   ]
  },
  {
   "cell_type": "code",
   "execution_count": 30,
   "metadata": {},
   "outputs": [
    {
     "name": "stdout",
     "output_type": "stream",
     "text": [
      "data-cleaned.csv      dirtiness.ipynb       \u001b[36msource-EnergiaAbierta\u001b[m\u001b[m\r\n",
      "data-dirty.xlsx       \u001b[36msource-DataCampfire\u001b[m\u001b[m   \u001b[36msource-Junaeb\u001b[m\u001b[m\r\n",
      "financiacion_RM_2016.csv          financiacion_municipales_2016.csv\r\n"
     ]
    }
   ],
   "source": [
    "! ls && cd source-DataCampfire/ && ls"
   ]
  },
  {
   "cell_type": "code",
   "execution_count": 31,
   "metadata": {},
   "outputs": [],
   "source": [
    "# Reading\n",
    "politics = pd.read_csv(r'source-DataCampfire/financiacion_municipales_2016.csv', sep=\",\")\n",
    "pol_met = politics.loc[politics['region'] == 13]\n",
    "pol_met.to_csv(r'source-DataCampfire/financiacion_RM_2016.csv',sep=\",\")"
   ]
  },
  {
   "cell_type": "code",
   "execution_count": 35,
   "metadata": {},
   "outputs": [
    {
     "data": {
      "text/html": [
       "<div>\n",
       "<table border=\"1\" class=\"dataframe\">\n",
       "  <thead>\n",
       "    <tr style=\"text-align: right;\">\n",
       "      <th></th>\n",
       "      <th>N° FACTURA/ BOLETA/ NC</th>\n",
       "      <th>RUT</th>\n",
       "      <th>PROVEEDOR</th>\n",
       "      <th>MONTO</th>\n",
       "      <th>FECHA INGRESO A JUNAEB</th>\n",
       "      <th>ORDEN DE COMPRA</th>\n",
       "    </tr>\n",
       "  </thead>\n",
       "  <tbody>\n",
       "    <tr>\n",
       "      <th>0</th>\n",
       "      <td>73097336</td>\n",
       "      <td>96792430-K</td>\n",
       "      <td>SODIMAC S.A.</td>\n",
       "      <td>$ 7.958.934</td>\n",
       "      <td>05-01-16</td>\n",
       "      <td>85-1652-CM15</td>\n",
       "    </tr>\n",
       "    <tr>\n",
       "      <th>1</th>\n",
       "      <td>72995963</td>\n",
       "      <td>96792430-K</td>\n",
       "      <td>SODIMAC S.A.</td>\n",
       "      <td>$ 1.674.261</td>\n",
       "      <td>05-01-16</td>\n",
       "      <td>85-1655-CM15</td>\n",
       "    </tr>\n",
       "    <tr>\n",
       "      <th>2</th>\n",
       "      <td>72995957</td>\n",
       "      <td>96792430-K</td>\n",
       "      <td>SODIMAC S.A.</td>\n",
       "      <td>$ 3.310.186</td>\n",
       "      <td>05-01-16</td>\n",
       "      <td>85-1568-CM15</td>\n",
       "    </tr>\n",
       "    <tr>\n",
       "      <th>3</th>\n",
       "      <td>73097337</td>\n",
       "      <td>96792430-K</td>\n",
       "      <td>SODIMAC S.A.</td>\n",
       "      <td>$ 1.600.010</td>\n",
       "      <td>05-01-16</td>\n",
       "      <td>85-1619-CM15</td>\n",
       "    </tr>\n",
       "    <tr>\n",
       "      <th>4</th>\n",
       "      <td>198</td>\n",
       "      <td>76105050-8</td>\n",
       "      <td>SALUD Y VIDA S.A.</td>\n",
       "      <td>$ 65.682.555</td>\n",
       "      <td>05-01-16</td>\n",
       "      <td>SIN OC</td>\n",
       "    </tr>\n",
       "  </tbody>\n",
       "</table>\n",
       "</div>"
      ],
      "text/plain": [
       "  N° FACTURA/ BOLETA/ NC         RUT          PROVEEDOR         MONTO  \\\n",
       "0               73097336  96792430-K       SODIMAC S.A.   $ 7.958.934   \n",
       "1               72995963  96792430-K       SODIMAC S.A.   $ 1.674.261   \n",
       "2               72995957  96792430-K       SODIMAC S.A.   $ 3.310.186   \n",
       "3               73097337  96792430-K       SODIMAC S.A.   $ 1.600.010   \n",
       "4                    198  76105050-8  SALUD Y VIDA S.A.  $ 65.682.555   \n",
       "\n",
       "  FECHA INGRESO A JUNAEB ORDEN DE COMPRA  \n",
       "0               05-01-16    85-1652-CM15  \n",
       "1               05-01-16    85-1655-CM15  \n",
       "2               05-01-16    85-1568-CM15  \n",
       "3               05-01-16    85-1619-CM15  \n",
       "4               05-01-16          SIN OC  "
      ]
     },
     "execution_count": 35,
     "metadata": {},
     "output_type": "execute_result"
    }
   ],
   "source": [
    "junaeb = pd.read_csv(r'source-Junaeb/facturas-pagadas-2016.csv', sep=\",\")\n",
    "junaeb.head()"
   ]
  },
  {
   "cell_type": "code",
   "execution_count": 27,
   "metadata": {},
   "outputs": [],
   "source": [
    "junaeb = junaeb.loc[politics['region'] == 13]\n",
    "junaeb.to_csv(r'source-DataCampfire/financiacion_RM_2016.csv',sep=\",\")"
   ]
  }
 ],
 "metadata": {
  "kernelspec": {
   "display_name": "Python 3",
   "language": "python",
   "name": "python3"
  },
  "language_info": {
   "codemirror_mode": {
    "name": "ipython",
    "version": 3
   },
   "file_extension": ".py",
   "mimetype": "text/x-python",
   "name": "python",
   "nbconvert_exporter": "python",
   "pygments_lexer": "ipython3",
   "version": "3.6.3"
  }
 },
 "nbformat": 4,
 "nbformat_minor": 2
}
